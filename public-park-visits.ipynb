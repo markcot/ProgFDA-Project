{
 "cells": [
  {
   "cell_type": "markdown",
   "metadata": {},
   "source": [
    "# <font color='blue'> Programming for Data Analysis - Project</font>\n",
    "- **Course** Higher Diploma in Data Analytics, GMIT, Ireland\n",
    "- **Lecturer** Brian McGinley\n",
    "- **Author** Mark Cotter\n",
    "- **Email** g00376335@gmit.ie\n",
    "- **Dates** November 2019 to December 2019"
   ]
  },
  {
   "cell_type": "markdown",
   "metadata": {},
   "source": [
    "## <font color='blue'>Introduction</font>\n",
    "This document is my jupyter notebook<font color='blue'>[1]</font> file for the GMIT module 'Programming for Data Analysis' project. The project includes a review of public park visits and the factors that affect the number of visitors. This jupyter notebook uses the Python programming language<font color='blue'>[1]</font> to illustrate and simulate elements of this review\n",
    "\n",
    "I have a professional interest in public parks and the factors that determine patterns of use in parks. My role includes the operational management of a number of parks. Understanding patterns in park use can help determine how best to develop the parks for the future."
   ]
  },
  {
   "cell_type": "code",
   "execution_count": 1,
   "metadata": {},
   "outputs": [],
   "source": [
    "# This code imports python libraries.\n",
    "\n",
    "# import numpy for use of arrays\\n\",\n",
    "import numpy as np\n",
    "# import pandas to use DataFrames\n",
    "import pandas as pd\n",
    "# import seaborn for ploting\n",
    "import seaborn as sns\n",
    "# import matplotlib pyplot for ploting\n",
    "import matplotlib.pyplot as plt"
   ]
  },
  {
   "cell_type": "markdown",
   "metadata": {},
   "source": [
    "\n",
    "\n",
    "## <font color='blue'>Need for Parks</font>\n",
    "As people are increasingly living in urban areas parks, walkways, accessible forests and natural landscapes become more essential public services<font color='blue'>[2]</font>. These areas provide a space for people to escape the pressures of modern life, where they can enjoy natural or semi-natural environments, exercise, play and relax. Such facilities improve the physical and mental health of users and encourage active recreational activities. As the famed American landscape architect Fredrick Law Olmsted said parks are the “lungs of the city.”<font color='blue'>[2]</font>.  Parks also serve as wildlife reserves and a place where people can observe wildlife.\n",
    "\n",
    "Proximity to a park or walkway attracts other economic investments to an area improving the attractiveness of an area to both live and work. Many parks also serve other roles such as flooding control measures, improving air quality in urban areas and a method of regenerating post industrial areas or landfill sites<font color='blue'>[3]</font>.\n",
    "\n",
    "## <font color='blue'>Factors affecting park visitation</font>\n",
    "Parks come in all shapes and sizes. There are a multitude of factors that can affect a park popularity. My research<font color='blue'>[4]</font> has identified the following factors\n",
    "- \n",
    "    - Park characteristics\n",
    "        - Size, location and age of the park\n",
    "        - Budgets to maintain, develop and staff the park\n",
    "        - Variety of park environments (open, forest, river, hills, mountainous)\n",
    "        - Attractive natural features and viewpoints (trees, flowers and other planting)\n",
    "        - Accessibility\n",
    "        - Entrance fees\n",
    "    - Services inside the park\n",
    "        - Recreation activities (playgrounds, sports fields/courts, skate parks and exercise equipment)\n",
    "        - Pathway and trail types\n",
    "        - Picnic and seating areas\n",
    "        - Usable spaces\n",
    "        - Park information\n",
    "        - Visitor centres\n",
    "        - Toilet facilities\n",
    "        - Food offerings  \n",
    "        - Waste disposal\n",
    "        - Security and perceived safety\n",
    "    - Services outside the park\n",
    "        - Parking\n",
    "        - Approach infrastructure (roads, cycleways and footways)\n",
    "        - Media attention   \n",
    "    - Adjacent population\n",
    "        - Size\n",
    "        - Age distributions\n",
    "        - Employment rates and types\n",
    "        - Free time available\n",
    "        - Disposal income\n",
    "        - Interest and popularity of activities\n",
    "        - Distances to the park from home, schools and workplaces\n",
    "        - Travel costs\n",
    "    - Proximity to other amenities and attractions\n",
    "    - Weather and seasons (temperature and precipitation)\n",
    "    - Day of the week (weekdays, weekends and public holidays)\n",
    "    - Time of day (morning, lunch or evening)\n",
    "\n",
    "## <font color='blue'>Collection of park data</font>\n",
    "\n",
    "Large national parks can be spread out over large areas, with difficult terrain and may include numerous entrances making continuous user counts difficult or impossible. Even monitoring visits to medium sized regional parks with fewer entrances can prove challenging. There are are number of methods of collecting park data<font color='blue'>[5]</font> such as:\n",
    "- Physical counts at the park\n",
    "- Automated counters\n",
    "- Visitor studies\n",
    "\n",
    "Depending on the characteristics of the park, statistical sampling techniques are often used to approximate overall park visits using various count techniques and studies to correlate the data.\n",
    "To fully understand how each individual aspect of the park influences the attraction for visitors to certain parks in a given area would be to assign a comparative indexes for each park that gives ratings and weightings to individual park elements such as various activities, amenity and aesthetic features<font color='blue'>[5]</font>. \n",
    "Ratings may be based on the element condition and popularity for each individual amenity, activity, aesthetic feature in each park.\n",
    "As not all aspects in a park receive equal use, the aspect weightings could be based on random spot checks of the numbers of people using or enjoying various aspects of the park at a given time.\n",
    "Summing the weighted ratings for individual element could determine an **amenity index, activity index, aesthetic rating** for each park. Combined with the **park size**, these indexes could form a comparative characteristics of each park in an area.\n",
    "\n",
    "## <font color='blue'>Simulating park data</font>\n",
    "\n",
    "For this project, I intend to focus on a selection of variables and use simulated data for these variables to build up a basic model of how these affect park visitations. This research in combination with count data and park characteristics may be used to facilitate further research. For my analysis I have decided to define the following park constraints and assumptions:\n",
    "- Local population within 10 km of the park is approximately 40,000\n",
    "- 50% of people walk to the park\n",
    "- 50% of people drive to park and park in the car park\n",
    "- Car park is limited to 100 spaces\n",
    "- The park includes a playground, walkways and sports fields\n",
    "- Local weather patterns relate to the south of Ireland\n",
    "\n",
    "The input factors I have chosen to explore to compare the resultant visits to a park are:\n",
    "- Local population and employment factors\n",
    "- Time factors\n",
    "- Weather and temperature\n",
    "\n",
    "### <font color='blue'>Population and employment factors</font>\n",
    "\n",
    "The current population of Republic of Ireland is approximately 4.9 million<font color='blue'>[6]</font> and is evenly divided 50:50 between males and females. Population is divided into 65% working population (aged 15 to 64), 20% youth population (aged 0 to 14) and 15% elderly or retired population. Employment rates of the working population is currently at 70% with an unemployed rate of 5%. Part-time workers account for 20% people employed. Approximately 6% of the working age population are homemakers, which leave approximate 19% of the working population, the majority of which are likely in full or part time education.\n",
    "\n",
    "The majority of people have a 39 hour working week between 8.30am and 5pm Monday to Thursday and finish at 4pm on Fridays and a proportion four 4 hours overtime on Saturdays. Based on these factors we can"
   ]
  },
  {
   "cell_type": "code",
   "execution_count": null,
   "metadata": {},
   "outputs": [],
   "source": []
  },
  {
   "cell_type": "code",
   "execution_count": null,
   "metadata": {},
   "outputs": [],
   "source": []
  },
  {
   "cell_type": "markdown",
   "metadata": {},
   "source": []
  },
  {
   "cell_type": "code",
   "execution_count": null,
   "metadata": {},
   "outputs": [],
   "source": []
  },
  {
   "cell_type": "code",
   "execution_count": null,
   "metadata": {},
   "outputs": [],
   "source": []
  },
  {
   "cell_type": "markdown",
   "metadata": {},
   "source": [
    "### <font color='blue'>Time factors</font>\n",
    "Day of the week, time of the day and seasons play a major role in park visitations rates. Many parks are only open between dawn and dust which varies from season to season<font color='blue'>[7]</font>. During winter these times are even more restricted as daylight hours are reduced.\n",
    "\n",
    "The majority of people work days Monday to Friday in the time range 8am to 6pm with many also working half day on Saturday mornings. These hours generally limit free time that many working people can visits park to early mornings, lunchtime, late evenings and at weekends in particular Sundays.\n",
    "\n",
    "\n"
   ]
  },
  {
   "cell_type": "code",
   "execution_count": null,
   "metadata": {},
   "outputs": [],
   "source": []
  },
  {
   "cell_type": "code",
   "execution_count": null,
   "metadata": {},
   "outputs": [],
   "source": []
  },
  {
   "cell_type": "markdown",
   "metadata": {},
   "source": [
    "### <font color='blue'>Weather and temperature</font>"
   ]
  },
  {
   "cell_type": "code",
   "execution_count": null,
   "metadata": {},
   "outputs": [],
   "source": []
  },
  {
   "cell_type": "markdown",
   "metadata": {},
   "source": [
    "## <font color='blue'>References</font>\n",
    "\n",
    "**[1]** *Python and jupyter notebook*\n",
    "- https://www.python.org/\n",
    "- https://jupyter.org/\n",
    "\n",
    "**[2]** *Benefits of parks*\n",
    "- https://www.rospa.com/Play-Safety/Inspections/Open-Spaces-Public-Parks\n",
    "- https://www.nrpa.org/uploadedFiles/nrpa.org/Advocacy/Resources/Parks-Recreation-Essential-Public-Services-January-2010.pdf\n",
    "- https://www.forestryfocus.ie/social-environmental-aspects/recreation/\n",
    "- https://www.nrpa.org/parks-recreation-magazine/2017/april/the-health-benefits-of-small-parks-and-green-spaces/\n",
    "- http://www.rapidshift.net/public-space-in-cities-lungs-of-the-city-and-indicators/\n",
    "- https://www.dublincity.ie/sites/default/files/content/YourCouncil/StrategicPolicyCommitteeandCorporatePolicyGroup/Documents/Draft_Dublin_City_Parks_Strategy_2017-2022.pdf\n",
    "- https://spatial.usc.edu/wp-content/uploads/2014/03/9-GreenVisions.pdf\n",
    "\n",
    "**[3]** *Areas developed as parks*\n",
    "- https://www.wired.com/2014/08/a-gorgeous-park-designed-with-a-double-purpose-flood-protection/#\n",
    "- https://planningforhazards.com/parks-and-open-space-plan\n",
    "- https://assets.publishing.service.gov.uk/government/uploads/system/uploads/attachment_data/file/7772/pps25guideupdate.pdf\n",
    "- https://www.thecork.ie/2019/05/23/dump-transformed-into-public-park-tramore-park-cork-city/\n",
    "- https://www.thrillist.com/culture/15-landfills-that-are-now-stunning-parks-wastelands-converted-into-parks\n",
    "\n",
    "**[4]** *Factors affecting park visitation*\n",
    "- https://pdfs.semanticscholar.org/3a0a/17075622ecb7862528bd789ca0be728fecce.pdf\n",
    "- https://www.fs.fed.us/ne/newtown_square/publications/research_papers/pdfs/scanned/OCR/ne_rp630.pdf\n",
    "- https://www.nps.gov/subjects/climatechange/visitation.htm\n",
    "- https://krex.k-state.edu/dspace/handle/2097/35445\n",
    "- https://www.fs.fed.us/nrs/pubs/jrnl/2014/nrs_2014_stevens_001.pdf\n",
    "- https://www.nrpa.org/globalassets/engagement-survey-report-2018.pdf\n",
    "\n",
    "**[5]** *Collecting and simulating park data*\n",
    "- https://rsginc.com/wp-content/uploads/2018/05/Leggett-2015-NPS-NRDA-Report.pdf\n",
    "- http://www.ahs.uwaterloo.ca/~eagles/parks.pdf\n",
    "- http://assets.centralparknyc.org/pdfs/institute/p2p-upelp/3.002_Report+on+the+Public+Use+of+Central+Park.pdf\n",
    "- https://www.mdpi.com/2220-9964/7/3/124/pdf\n",
    "- https://www.researchgate.net/publication/283189090_A_Model_for_Estimating_Urban_Park_Visitation\n",
    "- https://www.rand.org/content/dam/rand/pubs/research_reports/RR700/RR774/RAND_RR774.pdf\n",
    "\n",
    "**[6]** *Population and Employment factors*\n",
    "- https://www.worldometers.info/world-population/ireland-population/\n",
    "- https://tradingeconomics.com/ireland/employment-rate\n",
    "- https://www.cso.ie/en/releasesandpublications/ep/p-wamii/womenandmeninireland2016/employment/\n",
    "- https://www.cso.ie/en/releasesandpublications/ep/p-cp4hf/cp4hf/fmls/\n",
    "- http://www.opatsi.ie/opatsi-hours-of-work-and-overtime.php\n",
    "- https://www.ilo.org/public/english/standards/relm/ilc/ilc93/pdf/rep-iii-1b.pdf\n",
    "\n",
    "\n",
    "**[7]** *Time Factors*\n",
    "- https://www.citylab.com/life/2019/06/park-hours-night-recreation-open-after-dark-nighttime-fun/591100/\n",
    "- https://eu.jsonline.com/story/news/local/franklin/2016/10/03/franklin-parks-now-open-dawn-dusk/91341832/\n",
    "\n",
    "\n",
    "\n"
   ]
  },
  {
   "cell_type": "code",
   "execution_count": null,
   "metadata": {},
   "outputs": [],
   "source": []
  }
 ],
 "metadata": {
  "kernelspec": {
   "display_name": "Python 3",
   "language": "python",
   "name": "python3"
  },
  "language_info": {
   "codemirror_mode": {
    "name": "ipython",
    "version": 3
   },
   "file_extension": ".py",
   "mimetype": "text/x-python",
   "name": "python",
   "nbconvert_exporter": "python",
   "pygments_lexer": "ipython3",
   "version": "3.7.3"
  }
 },
 "nbformat": 4,
 "nbformat_minor": 2
}
