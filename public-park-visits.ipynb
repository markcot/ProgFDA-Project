{
 "cells": [
  {
   "cell_type": "markdown",
   "metadata": {},
   "source": [
    "# <font color='blue'> Programming for Data Analysis - Project</font>\n",
    "- **Course** Higher Diploma in Data Analytics, GMIT, Ireland\n",
    "- **Lecturer** Brian McGinley\n",
    "- **Author** Mark Cotter\n",
    "- **Email** g00376335@gmit.ie\n",
    "- **Dates** November 2019 to December 2019"
   ]
  },
  {
   "cell_type": "markdown",
   "metadata": {},
   "source": [
    "## <font color='blue'>Introduction</font>\n",
    "This document is my jupyter notebook<font color='blue'>[1]</font> file for the GMIT module 'Programming for Data Analysis' project. The project includes a review of Public Park visits and the factors that affect the number of visitors. This jupyter notebook uses the Python programming language<font color='blue'>[1]</font> to illustrate and simulate elements of this review\n",
    "\n",
    "I have a professional interest in public parks and the factors that determine patterns of use in parks. My role includes the operational management of a number of parks. Understanding patterns in park use can help determine how best to develop the parks for the future.\n",
    "\n",
    "## <font color='blue'>Need for Parks</font>\n",
    "As people are increasingly living in urban areas parks, walkways, accessible forests and natural landscapes become more essential public services<font color='blue'>[2]</font>. These areas provide a space for people to escape the pressures of modern life, where they can enjoy natural or semi-natural environments, exercise, play and relax. Such facilities improve the physical and mental health of users and encourage active recreational activities. As the famed American landscape architect Fredrick Law Olmsted said parks are the “lungs of the city.”<font color='blue'>[2]</font>.  Parks also serve as wildlife reserves and a place where people can observe wildlife.\n",
    "\n",
    "Proximity to a park or walkway attracts other economic investments to an area improving the attractiveness of an area to both live and work. Many parks also serve other roles such as flooding control measures, improving air quality in urban areas and a method of regenerating post industrial areas or landfill sites<font color='blue'>[3]</font>.\n",
    "\n",
    "## <font color='blue'>Factors affecting park visitation</font>\n",
    "Parks come in all shapes and sizes. There are a multitude of factors that can affect a park popularity. My research<font color='blue'>[4]</font> has identified the following factors\n",
    "- \n",
    "    - Park characteristics\n",
    "        - Size, location and age of the park\n",
    "        - Budgets to maintain, develop and staff the park\n",
    "        - Variety of park environments (open, forest, river, hills, mountainous)\n",
    "        - Attractive natural features and viewpoints (trees, flowers and other planting)\n",
    "        - Accessibility\n",
    "        - Entrance fees\n",
    "    - Services inside the park\n",
    "        - Recreation activities (playgrounds, sports fields/courts, skate parks and exercise equipment)\n",
    "        - Pathway and trail types\n",
    "        - Picnic and seating areas\n",
    "        - Usable spaces\n",
    "        - Park information\n",
    "        - Visitor centres\n",
    "        - Toilet facilities\n",
    "        - Food offerings  \n",
    "        - Waste disposal\n",
    "        - Security\n",
    "    - Services outside the park\n",
    "        - Parking\n",
    "        - Approach infrastructure (roads, cycleways and footways)\n",
    "        - Media attention   \n",
    "    - Adjacent population\n",
    "        - Size\n",
    "        - Age distributions\n",
    "        - Employment rates and types\n",
    "        - Disposal income\n",
    "        - Interest and popularity of activities\n",
    "        - Distances to the park from home, schools and workplaces\n",
    "        - Travel costs\n",
    "    - Proximity to other amenities and attractions\n",
    "    - Weather and seasons (temperature and precipitation)\n",
    "    - Day of the week (Weekdays and Weekend)\n",
    "    - Time of day\n",
    "\n",
    "## <font color='blue'>Collection of park data</font>\n",
    "\n",
    "Large national parks can be spread out over large areas, with difficult terrain and may include numerous entrances making continuous user counts difficult or impossible<font color='blue'>[5]</font>. Even monitoring visits to medium sized regional parks with fewer entrances can prove challenging. There are are number of methods of collecting park data<font color='blue'>[5]</font> such as:\n",
    "- Physical counts at the park\n",
    "- Automated counters\n",
    "- Visitor studies\n",
    "\n",
    "Depending on the characteristics of the park, statistical sampling techniques may be required to approximate overall park visits and using various counts and studies to correlate the data."
   ]
  },
  {
   "cell_type": "code",
   "execution_count": null,
   "metadata": {},
   "outputs": [],
   "source": []
  },
  {
   "cell_type": "code",
   "execution_count": null,
   "metadata": {},
   "outputs": [],
   "source": []
  },
  {
   "cell_type": "code",
   "execution_count": null,
   "metadata": {},
   "outputs": [],
   "source": []
  },
  {
   "cell_type": "code",
   "execution_count": null,
   "metadata": {},
   "outputs": [],
   "source": []
  },
  {
   "cell_type": "code",
   "execution_count": null,
   "metadata": {},
   "outputs": [],
   "source": []
  },
  {
   "cell_type": "code",
   "execution_count": null,
   "metadata": {},
   "outputs": [],
   "source": []
  },
  {
   "cell_type": "code",
   "execution_count": null,
   "metadata": {},
   "outputs": [],
   "source": []
  },
  {
   "cell_type": "markdown",
   "metadata": {},
   "source": [
    "## <font color='blue'>References</font>\n",
    "\n",
    "**[1]** *Python and jupyter notebook*\n",
    "- https://www.python.org/\n",
    "- https://jupyter.org/\n",
    "\n",
    "**[2]** *Benefits of parks*\n",
    "- https://www.nrpa.org/uploadedFiles/nrpa.org/Advocacy/Resources/Parks-Recreation-Essential-Public-Services-January-2010.pdf\n",
    "- https://www.forestryfocus.ie/social-environmental-aspects/recreation/\n",
    "- https://www.nrpa.org/parks-recreation-magazine/2017/april/the-health-benefits-of-small-parks-and-green-spaces/\n",
    "- http://www.rapidshift.net/public-space-in-cities-lungs-of-the-city-and-indicators/\n",
    "- https://www.dublincity.ie/sites/default/files/content/YourCouncil/StrategicPolicyCommitteeandCorporatePolicyGroup/Documents/Draft_Dublin_City_Parks_Strategy_2017-2022.pdf\n",
    "- https://spatial.usc.edu/wp-content/uploads/2014/03/9-GreenVisions.pdf\n",
    "\n",
    "**[3]** *Areas developed as parks*\n",
    "- https://www.wired.com/2014/08/a-gorgeous-park-designed-with-a-double-purpose-flood-protection/#\n",
    "- https://planningforhazards.com/parks-and-open-space-plan\n",
    "- https://assets.publishing.service.gov.uk/government/uploads/system/uploads/attachment_data/file/7772/pps25guideupdate.pdf\n",
    "- https://www.thecork.ie/2019/05/23/dump-transformed-into-public-park-tramore-park-cork-city/\n",
    "- https://www.thrillist.com/culture/15-landfills-that-are-now-stunning-parks-wastelands-converted-into-parks\n",
    "\n",
    "**[4]** *Factors affecting park visitation*\n",
    "- https://pdfs.semanticscholar.org/3a0a/17075622ecb7862528bd789ca0be728fecce.pdf\n",
    "- https://www.fs.fed.us/ne/newtown_square/publications/research_papers/pdfs/scanned/OCR/ne_rp630.pdf\n",
    "- https://www.nps.gov/subjects/climatechange/visitation.htm\n",
    "- https://krex.k-state.edu/dspace/handle/2097/35445\n",
    "- https://www.fs.fed.us/nrs/pubs/jrnl/2014/nrs_2014_stevens_001.pdf\n",
    "\n",
    "**[5]** *Collection of park data*\n",
    "- https://rsginc.com/wp-content/uploads/2018/05/Leggett-2015-NPS-NRDA-Report.pdf\n",
    "- http://www.ahs.uwaterloo.ca/~eagles/parks.pdf\n",
    "- http://assets.centralparknyc.org/pdfs/institute/p2p-upelp/3.002_Report+on+the+Public+Use+of+Central+Park.pdf\n",
    "- https://www.mdpi.com/2220-9964/7/3/124/pdf\n",
    "- https://www.researchgate.net/publication/283189090_A_Model_for_Estimating_Urban_Park_Visitation\n",
    "\n"
   ]
  },
  {
   "cell_type": "code",
   "execution_count": null,
   "metadata": {},
   "outputs": [],
   "source": []
  }
 ],
 "metadata": {
  "kernelspec": {
   "display_name": "Python 3",
   "language": "python",
   "name": "python3"
  },
  "language_info": {
   "codemirror_mode": {
    "name": "ipython",
    "version": 3
   },
   "file_extension": ".py",
   "mimetype": "text/x-python",
   "name": "python",
   "nbconvert_exporter": "python",
   "pygments_lexer": "ipython3",
   "version": "3.7.3"
  }
 },
 "nbformat": 4,
 "nbformat_minor": 2
}
