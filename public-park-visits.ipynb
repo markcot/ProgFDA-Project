{
 "cells": [
  {
   "cell_type": "markdown",
   "metadata": {},
   "source": [
    "# <font color='blue'> Programming for Data Analysis - Project</font>\n",
    "- **Course** Higher Diploma in Data Analytics, GMIT, Ireland\n",
    "- **Lecturer** Brian McGinley\n",
    "- **Author** Mark Cotter\n",
    "- **Email** g00376335@gmit.ie\n",
    "- **Dates** November 2019 to December 2019"
   ]
  },
  {
   "cell_type": "markdown",
   "metadata": {},
   "source": [
    "## <font color='blue'>Introduction</font>\n",
    "This document is my jupyter notebook<font color='blue'>[1]</font> file for the GMIT module 'Programming for Data Analysis' project. The project includes a review of Public Park visits and the factors that affect the number of visitors. This jupyter notebook uses the Python programming language<font color='blue'>[1]</font> to illustrate and simulate elements of this review\n",
    "\n",
    "I have a professional interest in public parks and the factors that determine patterns of use in parks. My role includes the operational management of a number of parks. Understanding these patterns park use can help determine how best to develop the parks for the future.\n",
    "\n",
    "## <font color='blue'>Need for Parks</font>\n",
    "As people are increasingly living in urban area parks, walkways and accessible forests become more essential public services<font color='blue'>[2]</font>. These areas provide a space for people to escape the pressures of modern life where they can enjoy natural or semi-natural open spaces and environments, exercise, play and relax. Such facilities improve the physical and mental health of users and encourage active recreational activities and to coin a phrase from famed American landscape architect Fredrick Law Olmsted who said that parks are the “lungs of the city.”<font color='blue'>[2]</font>. Proximity to a park or walkway attracts other economic investments to an area improving the attractiveness of area to both live and work.\n",
    "\n",
    "Many parks also serve other roles such as flooding control measures, improving air quality in urban areas and a method of regenerating post industrial or landfill sites<font color='blue'>[3]</font>. Parks serve as wildlife reserves and a place where people can interact wildlife.\n",
    "\n",
    "## <font color='blue'>Collection of park data</font>\n",
    "\n",
    "There are are number of methods of collecting park data<font color='blue'>[4]</font> such as\n",
    "- Physical counts at the park by personnel\n",
    "- Visitor studies\n",
    "- Automated counters\n",
    "- Off-site surveys\n",
    "\n",
    "Depending on the characteristics of the park, the above techniques may require elements of statistical sampling techniques to approximate overall values and using the studies to correlate the models"
   ]
  },
  {
   "cell_type": "code",
   "execution_count": null,
   "metadata": {},
   "outputs": [],
   "source": []
  },
  {
   "cell_type": "code",
   "execution_count": null,
   "metadata": {},
   "outputs": [],
   "source": []
  },
  {
   "cell_type": "code",
   "execution_count": null,
   "metadata": {},
   "outputs": [],
   "source": []
  },
  {
   "cell_type": "code",
   "execution_count": null,
   "metadata": {},
   "outputs": [],
   "source": []
  },
  {
   "cell_type": "code",
   "execution_count": null,
   "metadata": {},
   "outputs": [],
   "source": []
  },
  {
   "cell_type": "code",
   "execution_count": null,
   "metadata": {},
   "outputs": [],
   "source": []
  },
  {
   "cell_type": "code",
   "execution_count": null,
   "metadata": {},
   "outputs": [],
   "source": []
  },
  {
   "cell_type": "markdown",
   "metadata": {},
   "source": [
    "## <font color='blue'>References</font>\n",
    "\n",
    "**[1]** *Python and jupyter notebook*\n",
    "- https://www.python.org/\n",
    "- https://jupyter.org/\n",
    "\n",
    "**[2]** *Benefits of parks*\n",
    "- https://www.nrpa.org/uploadedFiles/nrpa.org/Advocacy/Resources/Parks-Recreation-Essential-Public-Services-January-2010.pdf\n",
    "- https://www.forestryfocus.ie/social-environmental-aspects/recreation/\n",
    "- https://www.nrpa.org/parks-recreation-magazine/2017/april/the-health-benefits-of-small-parks-and-green-spaces/\n",
    "- http://www.rapidshift.net/public-space-in-cities-lungs-of-the-city-and-indicators/\n",
    "\n",
    "**[3]** *Areas developed as parks*\n",
    "- https://www.wired.com/2014/08/a-gorgeous-park-designed-with-a-double-purpose-flood-protection/#\n",
    "- https://planningforhazards.com/parks-and-open-space-plan\n",
    "- https://assets.publishing.service.gov.uk/government/uploads/system/uploads/attachment_data/file/7772/pps25guideupdate.pdf\n",
    "- https://www.thecork.ie/2019/05/23/dump-transformed-into-public-park-tramore-park-cork-city/\n",
    "- https://www.thrillist.com/culture/15-landfills-that-are-now-stunning-parks-wastelands-converted-into-parks\n",
    "\n",
    "**[4]** *Collection of park data*\n",
    "- https://rsginc.com/wp-content/uploads/2018/05/Leggett-2015-NPS-NRDA-Report.pdf\n",
    "- http://www.ahs.uwaterloo.ca/~eagles/parks.pdf\n",
    "- http://assets.centralparknyc.org/pdfs/institute/p2p-upelp/3.002_Report+on+the+Public+Use+of+Central+Park.pdf\n",
    "\n"
   ]
  },
  {
   "cell_type": "code",
   "execution_count": null,
   "metadata": {},
   "outputs": [],
   "source": []
  }
 ],
 "metadata": {
  "kernelspec": {
   "display_name": "Python 3",
   "language": "python",
   "name": "python3"
  },
  "language_info": {
   "codemirror_mode": {
    "name": "ipython",
    "version": 3
   },
   "file_extension": ".py",
   "mimetype": "text/x-python",
   "name": "python",
   "nbconvert_exporter": "python",
   "pygments_lexer": "ipython3",
   "version": "3.7.3"
  }
 },
 "nbformat": 4,
 "nbformat_minor": 2
}
